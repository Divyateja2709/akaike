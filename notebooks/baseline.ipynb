{
 "cells": [
  {
   "cell_type": "markdown",
   "metadata": {},
   "source": [
    "This notebook contains the baseline models for Project [SAR](https://github.com/d0r1h/SAR), with sample dataset size of 2000\n",
    "\n",
    "\n",
    "|Model | Checkpoint | Rouge-2[f_score] | checkpoint_link | Inference time | \n",
    "|--- | --- | --- | --- | --- |\n",
    "|BART | ai4bharat/IndicBART | 21.48 | [🤗](https://huggingface.co/ai4bharat/IndicBART) | 20min 27s |\n",
    "|T5 | csebuetnlp/mT5_multilingual_XLSum | 20.21 | [🤗](https://huggingface.co/csebuetnlp/mT5_multilingual_XLSum) | 45min 54s|"
   ]
  },
  {
   "cell_type": "markdown",
   "metadata": {},
   "source": [
    "#### **Installing dependencies**"
   ]
  },
  {
   "cell_type": "code",
   "execution_count": 2,
   "metadata": {
    "execution": {
     "iopub.execute_input": "2022-05-01T07:45:23.970073Z",
     "iopub.status.busy": "2022-05-01T07:45:23.969391Z",
     "iopub.status.idle": "2022-05-01T07:45:36.102927Z",
     "shell.execute_reply": "2022-05-01T07:45:36.102002Z",
     "shell.execute_reply.started": "2022-05-01T07:45:23.970021Z"
    }
   },
   "outputs": [],
   "source": [
    "!pip install transformers sentencepiece datasets rouge -qq"
   ]
  },
  {
   "cell_type": "markdown",
   "metadata": {},
   "source": [
    "#### **Importing libraries**"
   ]
  },
  {
   "cell_type": "code",
   "execution_count": 3,
   "metadata": {
    "execution": {
     "iopub.execute_input": "2022-05-01T07:45:36.105676Z",
     "iopub.status.busy": "2022-05-01T07:45:36.105383Z",
     "iopub.status.idle": "2022-05-01T07:45:40.684209Z",
     "shell.execute_reply": "2022-05-01T07:45:40.683469Z",
     "shell.execute_reply.started": "2022-05-01T07:45:36.105636Z"
    }
   },
   "outputs": [],
   "source": [
    "import torch\n",
    "import pandas as pd\n",
    "from rouge import Rouge\n",
    "from transformers import AutoModelForSeq2SeqLM, AutoTokenizer\n",
    "\n",
    "import plotly.express as px\n",
    "import matplotlib.pyplot as plt\n",
    "\n",
    "from plotly.offline import init_notebook_mode\n",
    "init_notebook_mode(connected=True)"
   ]
  },
  {
   "cell_type": "markdown",
   "metadata": {},
   "source": [
    "#### **Downloading the data**"
   ]
  },
  {
   "cell_type": "code",
   "execution_count": 4,
   "metadata": {
    "execution": {
     "iopub.execute_input": "2022-05-01T07:45:53.947285Z",
     "iopub.status.busy": "2022-05-01T07:45:53.947027Z",
     "iopub.status.idle": "2022-05-01T07:45:56.268032Z",
     "shell.execute_reply": "2022-05-01T07:45:56.267069Z",
     "shell.execute_reply.started": "2022-05-01T07:45:53.947257Z"
    }
   },
   "outputs": [],
   "source": [
    "!wget https://raw.githubusercontent.com/d0r1h/SAR/main/dataset/SARsample.csv -q"
   ]
  },
  {
   "cell_type": "code",
   "execution_count": 5,
   "metadata": {
    "execution": {
     "iopub.execute_input": "2022-05-01T07:45:56.270152Z",
     "iopub.status.busy": "2022-05-01T07:45:56.269885Z",
     "iopub.status.idle": "2022-05-01T07:45:56.509584Z",
     "shell.execute_reply": "2022-05-01T07:45:56.508890Z",
     "shell.execute_reply.started": "2022-05-01T07:45:56.270115Z"
    }
   },
   "outputs": [],
   "source": [
    "data = pd.read_csv(\"./SARsample.csv\")"
   ]
  },
  {
   "cell_type": "code",
   "execution_count": 6,
   "metadata": {
    "execution": {
     "iopub.execute_input": "2022-05-01T07:45:57.394663Z",
     "iopub.status.busy": "2022-05-01T07:45:57.394414Z",
     "iopub.status.idle": "2022-05-01T07:45:57.415937Z",
     "shell.execute_reply": "2022-05-01T07:45:57.415265Z",
     "shell.execute_reply.started": "2022-05-01T07:45:57.394635Z"
    }
   },
   "outputs": [
    {
     "data": {
      "text/html": [
       "<div>\n",
       "<style scoped>\n",
       "    .dataframe tbody tr th:only-of-type {\n",
       "        vertical-align: middle;\n",
       "    }\n",
       "\n",
       "    .dataframe tbody tr th {\n",
       "        vertical-align: top;\n",
       "    }\n",
       "\n",
       "    .dataframe thead th {\n",
       "        text-align: right;\n",
       "    }\n",
       "</style>\n",
       "<table border=\"1\" class=\"dataframe\">\n",
       "  <thead>\n",
       "    <tr style=\"text-align: right;\">\n",
       "      <th></th>\n",
       "      <th>title</th>\n",
       "      <th>summary</th>\n",
       "      <th>text</th>\n",
       "    </tr>\n",
       "  </thead>\n",
       "  <tbody>\n",
       "    <tr>\n",
       "      <th>0</th>\n",
       "      <td>लोकसभा चुनाव 2019: तन कर चलने वाली बीजेपी बिहा...</td>\n",
       "      <td>बिहार में भारतीय जनता पार्टी (बीजेपी) अपने सहय...</td>\n",
       "      <td>आगामी लोकसभा चुनाव में राज्य की कुल 40 सीटों म...</td>\n",
       "    </tr>\n",
       "    <tr>\n",
       "      <th>1</th>\n",
       "      <td>चैम्पियंस ट्रॉफी क्रिस गेल ने भारत पाकिस्तान क...</td>\n",
       "      <td>क्रिस गेल ने कहा चैंपियंस ट्रॉफी में पाकिस्तान...</td>\n",
       "      <td>वेस्टइंडीज के आक्रामक बल्लेबाज क्रिस गेल ने कह...</td>\n",
       "    </tr>\n",
       "    <tr>\n",
       "      <th>2</th>\n",
       "      <td>सरकार विरोधी प्रदर्शन बंद होने पर ही बातचीत स...</td>\n",
       "      <td>म्रिस्र के नवनियुक्त उप राष्ट्रपति उमर सुलेमान...</td>\n",
       "      <td>म्रिस्र के नवनियुक्त उप राष्ट्रपति उमर सुलेमान...</td>\n",
       "    </tr>\n",
       "    <tr>\n",
       "      <th>3</th>\n",
       "      <td>वहां शेव करनी चाहिए या नहीं ट्विंकल खन्ना ने ...</td>\n",
       "      <td>ट्विंकल खन्ना ने वजाइना से जुड़े कई सवालों के ...</td>\n",
       "      <td>अकसर अपने ट्वीट्स को लेकर चर्चा में रहने वाली...</td>\n",
       "    </tr>\n",
       "    <tr>\n",
       "      <th>4</th>\n",
       "      <td>पैदल सड़क पार करने वाले हैं ट्रैफ़िक में बाधा?</td>\n",
       "      <td>दुनिया भर में ग़लत तरीके से सड़क पार करने पर ज...</td>\n",
       "      <td>कहा जाता है कि अमरीका में 1920 के दशक में मोटर...</td>\n",
       "    </tr>\n",
       "    <tr>\n",
       "      <th>...</th>\n",
       "      <td>...</td>\n",
       "      <td>...</td>\n",
       "      <td>...</td>\n",
       "    </tr>\n",
       "    <tr>\n",
       "      <th>1995</th>\n",
       "      <td>नोएडा नकल नहीं करवाई तो टीचर को लोहे की रॉड से...</td>\n",
       "      <td>परीक्षा में नकल करते हुए पकड़े जाने पर गुस्साए...</td>\n",
       "      <td>परीक्षा में नकल करते हुए पकड़े जाने पर गुस्साए...</td>\n",
       "    </tr>\n",
       "    <tr>\n",
       "      <th>1996</th>\n",
       "      <td>पाकिस्तान में दरगाह के मानसिक रूप से बीमार संर...</td>\n",
       "      <td>अलग अलग अधिकारियों ने घटना का अलग अलग कारण बता...</td>\n",
       "      <td>पाकिस्तान के पंजाब प्रांत में एक दरगाह के मानस...</td>\n",
       "    </tr>\n",
       "    <tr>\n",
       "      <th>1997</th>\n",
       "      <td>पांच सप्ताह की तेजी के बाद शेयर बाजारों में आई...</td>\n",
       "      <td>पांच सप्ताह लगातार तेजी में रहने के बाद गत सप्...</td>\n",
       "      <td>पांच सप्ताह लगातार तेजी में रहने के बाद गत सप्...</td>\n",
       "    </tr>\n",
       "    <tr>\n",
       "      <th>1998</th>\n",
       "      <td>गोपनीयता कानून के तहत सजा काटने के बाद पाकिस्त...</td>\n",
       "      <td>इसको 14 साल सश्रम कारावास की सजा सुनाई गई थी स...</td>\n",
       "      <td>तेलंगाना सरकार ने गोपनीयता कानून के तहत सजा का...</td>\n",
       "    </tr>\n",
       "    <tr>\n",
       "      <th>1999</th>\n",
       "      <td>जजों के ख़िलाफ़ यौन उत्पीड़न की शिकायत नहीं सु...</td>\n",
       "      <td>अदालतों पर ज़िम्मेदारी है महिलाओं के यौन उत्पी...</td>\n",
       "      <td>मगर यह समिति किसी न्यायाधीश के ख़िलाफ़ यौन उत्...</td>\n",
       "    </tr>\n",
       "  </tbody>\n",
       "</table>\n",
       "<p>2000 rows × 3 columns</p>\n",
       "</div>"
      ],
      "text/plain": [
       "                                                  title  \\\n",
       "0     लोकसभा चुनाव 2019: तन कर चलने वाली बीजेपी बिहा...   \n",
       "1     चैम्पियंस ट्रॉफी क्रिस गेल ने भारत पाकिस्तान क...   \n",
       "2      सरकार विरोधी प्रदर्शन बंद होने पर ही बातचीत स...   \n",
       "3      वहां शेव करनी चाहिए या नहीं ट्विंकल खन्ना ने ...   \n",
       "4        पैदल सड़क पार करने वाले हैं ट्रैफ़िक में बाधा?   \n",
       "...                                                 ...   \n",
       "1995  नोएडा नकल नहीं करवाई तो टीचर को लोहे की रॉड से...   \n",
       "1996  पाकिस्तान में दरगाह के मानसिक रूप से बीमार संर...   \n",
       "1997  पांच सप्ताह की तेजी के बाद शेयर बाजारों में आई...   \n",
       "1998  गोपनीयता कानून के तहत सजा काटने के बाद पाकिस्त...   \n",
       "1999  जजों के ख़िलाफ़ यौन उत्पीड़न की शिकायत नहीं सु...   \n",
       "\n",
       "                                                summary  \\\n",
       "0     बिहार में भारतीय जनता पार्टी (बीजेपी) अपने सहय...   \n",
       "1     क्रिस गेल ने कहा चैंपियंस ट्रॉफी में पाकिस्तान...   \n",
       "2     म्रिस्र के नवनियुक्त उप राष्ट्रपति उमर सुलेमान...   \n",
       "3     ट्विंकल खन्ना ने वजाइना से जुड़े कई सवालों के ...   \n",
       "4     दुनिया भर में ग़लत तरीके से सड़क पार करने पर ज...   \n",
       "...                                                 ...   \n",
       "1995  परीक्षा में नकल करते हुए पकड़े जाने पर गुस्साए...   \n",
       "1996  अलग अलग अधिकारियों ने घटना का अलग अलग कारण बता...   \n",
       "1997  पांच सप्ताह लगातार तेजी में रहने के बाद गत सप्...   \n",
       "1998  इसको 14 साल सश्रम कारावास की सजा सुनाई गई थी स...   \n",
       "1999  अदालतों पर ज़िम्मेदारी है महिलाओं के यौन उत्पी...   \n",
       "\n",
       "                                                   text  \n",
       "0     आगामी लोकसभा चुनाव में राज्य की कुल 40 सीटों म...  \n",
       "1     वेस्टइंडीज के आक्रामक बल्लेबाज क्रिस गेल ने कह...  \n",
       "2     म्रिस्र के नवनियुक्त उप राष्ट्रपति उमर सुलेमान...  \n",
       "3      अकसर अपने ट्वीट्स को लेकर चर्चा में रहने वाली...  \n",
       "4     कहा जाता है कि अमरीका में 1920 के दशक में मोटर...  \n",
       "...                                                 ...  \n",
       "1995  परीक्षा में नकल करते हुए पकड़े जाने पर गुस्साए...  \n",
       "1996  पाकिस्तान के पंजाब प्रांत में एक दरगाह के मानस...  \n",
       "1997  पांच सप्ताह लगातार तेजी में रहने के बाद गत सप्...  \n",
       "1998  तेलंगाना सरकार ने गोपनीयता कानून के तहत सजा का...  \n",
       "1999  मगर यह समिति किसी न्यायाधीश के ख़िलाफ़ यौन उत्...  \n",
       "\n",
       "[2000 rows x 3 columns]"
      ]
     },
     "execution_count": 6,
     "metadata": {},
     "output_type": "execute_result"
    }
   ],
   "source": [
    "data"
   ]
  },
  {
   "cell_type": "code",
   "execution_count": 36,
   "metadata": {
    "execution": {
     "iopub.execute_input": "2022-05-01T09:18:48.439804Z",
     "iopub.status.busy": "2022-05-01T09:18:48.439093Z",
     "iopub.status.idle": "2022-05-01T09:18:48.445544Z",
     "shell.execute_reply": "2022-05-01T09:18:48.444904Z",
     "shell.execute_reply.started": "2022-05-01T09:18:48.439742Z"
    }
   },
   "outputs": [],
   "source": [
    "text = data['text']\n",
    "goldsummary = data['summary']"
   ]
  },
  {
   "cell_type": "markdown",
   "metadata": {},
   "source": [
    "**Note**: Mostly data is cleaned except few numerical values such as days and count, and maybe it is best not to remove them becuase summary also contains these numbers and it can be valuable for text generation."
   ]
  },
  {
   "cell_type": "markdown",
   "metadata": {},
   "source": [
    "### **Model1 : BART**"
   ]
  },
  {
   "cell_type": "code",
   "execution_count": 8,
   "metadata": {
    "execution": {
     "iopub.execute_input": "2022-05-01T07:46:03.147081Z",
     "iopub.status.busy": "2022-05-01T07:46:03.146635Z",
     "iopub.status.idle": "2022-05-01T07:46:03.150705Z",
     "shell.execute_reply": "2022-05-01T07:46:03.150035Z",
     "shell.execute_reply.started": "2022-05-01T07:46:03.147046Z"
    }
   },
   "outputs": [],
   "source": [
    "bart_checkpoint = \"ai4bharat/IndicBART\""
   ]
  },
  {
   "cell_type": "code",
   "execution_count": 9,
   "metadata": {
    "execution": {
     "iopub.execute_input": "2022-05-01T07:46:05.444394Z",
     "iopub.status.busy": "2022-05-01T07:46:05.443832Z",
     "iopub.status.idle": "2022-05-01T07:46:05.521257Z",
     "shell.execute_reply": "2022-05-01T07:46:05.520338Z",
     "shell.execute_reply.started": "2022-05-01T07:46:05.444359Z"
    }
   },
   "outputs": [],
   "source": [
    "device = \"cuda\" if torch.cuda.is_available() else \"cpu\""
   ]
  },
  {
   "cell_type": "code",
   "execution_count": null,
   "metadata": {},
   "outputs": [],
   "source": [
    "tokenizer_bart = AutoTokenizer.from_pretrained(bart_checkpoint, \n",
    "                                               do_lower_case=False, \n",
    "                                               use_fast=False, \n",
    "                                               keep_accents=True)\n",
    "\n",
    "model_bart = AutoModelForSeq2SeqLM.from_pretrained(bart_checkpoint).to(device)"
   ]
  },
  {
   "cell_type": "code",
   "execution_count": 11,
   "metadata": {
    "execution": {
     "iopub.execute_input": "2022-05-01T07:47:02.445837Z",
     "iopub.status.busy": "2022-05-01T07:47:02.445566Z",
     "iopub.status.idle": "2022-05-01T07:47:02.450896Z",
     "shell.execute_reply": "2022-05-01T07:47:02.450208Z",
     "shell.execute_reply.started": "2022-05-01T07:47:02.445808Z"
    }
   },
   "outputs": [],
   "source": [
    "bos_id = tokenizer_bart._convert_token_to_id_with_added_voc(\"<s>\")\n",
    "eos_id = tokenizer_bart._convert_token_to_id_with_added_voc(\"</s>\")\n",
    "pad_id = tokenizer_bart._convert_token_to_id_with_added_voc(\"<pad>\")"
   ]
  },
  {
   "cell_type": "code",
   "execution_count": 14,
   "metadata": {
    "execution": {
     "iopub.execute_input": "2022-05-01T07:47:56.301203Z",
     "iopub.status.busy": "2022-05-01T07:47:56.300925Z",
     "iopub.status.idle": "2022-05-01T08:08:23.903310Z",
     "shell.execute_reply": "2022-05-01T08:08:23.902448Z",
     "shell.execute_reply.started": "2022-05-01T07:47:56.301173Z"
    }
   },
   "outputs": [
    {
     "name": "stdout",
     "output_type": "stream",
     "text": [
      "CPU times: user 20min 19s, sys: 3.09 s, total: 20min 22s\n",
      "Wall time: 20min 27s\n"
     ]
    }
   ],
   "source": [
    "%%time\n",
    "\n",
    "SystemSummary = []\n",
    "\n",
    "for i, input_text in enumerate(text):\n",
    "    \n",
    "    inp = tokenizer_bart(input_text, add_special_tokens=False, \n",
    "                         truncation=True, return_tensors=\"pt\", \n",
    "                         padding='max_length', max_length=1024)['input_ids'].to(device)  \n",
    "    \n",
    "    model_output = model_bart.generate(inp, use_cache=True, \n",
    "                                        num_beams=4, \n",
    "                                        max_length=70, \n",
    "                                        min_length=30, \n",
    "                                        early_stopping=True, \n",
    "                                        pad_token_id=pad_id,\n",
    "                                        bos_token_id=bos_id, \n",
    "                                        eos_token_id=eos_id, \n",
    "                                        decoder_start_token_id=tokenizer_bart._convert_token_to_id_with_added_voc(\"<2en>\"))\n",
    "    \n",
    "    decoded_output = tokenizer_bart.decode(model_output[0], \n",
    "                                    skip_special_tokens=True, \n",
    "                                    clean_up_tokenization_spaces=False)\n",
    "    \n",
    "    SystemSummary.append(decoded_output)"
   ]
  },
  {
   "cell_type": "code",
   "execution_count": 37,
   "metadata": {
    "execution": {
     "iopub.execute_input": "2022-05-01T09:18:58.089296Z",
     "iopub.status.busy": "2022-05-01T09:18:58.088715Z",
     "iopub.status.idle": "2022-05-01T09:18:58.102600Z",
     "shell.execute_reply": "2022-05-01T09:18:58.101828Z",
     "shell.execute_reply.started": "2022-05-01T09:18:58.089225Z"
    }
   },
   "outputs": [
    {
     "data": {
      "text/html": [
       "<div>\n",
       "<style scoped>\n",
       "    .dataframe tbody tr th:only-of-type {\n",
       "        vertical-align: middle;\n",
       "    }\n",
       "\n",
       "    .dataframe tbody tr th {\n",
       "        vertical-align: top;\n",
       "    }\n",
       "\n",
       "    .dataframe thead th {\n",
       "        text-align: right;\n",
       "    }\n",
       "</style>\n",
       "<table border=\"1\" class=\"dataframe\">\n",
       "  <thead>\n",
       "    <tr style=\"text-align: right;\">\n",
       "      <th></th>\n",
       "      <th>GoldSummary</th>\n",
       "      <th>BartSummary</th>\n",
       "    </tr>\n",
       "  </thead>\n",
       "  <tbody>\n",
       "    <tr>\n",
       "      <th>0</th>\n",
       "      <td>बिहार में भारतीय जनता पार्टी (बीजेपी) अपने सहय...</td>\n",
       "      <td>आगामी लोकसभा चुनाव में राज्य की कुल 40 सीटों म...</td>\n",
       "    </tr>\n",
       "    <tr>\n",
       "      <th>1</th>\n",
       "      <td>क्रिस गेल ने कहा चैंपियंस ट्रॉफी में पाकिस्तान...</td>\n",
       "      <td>वेस्टइंडीज के आक्रामक बल्लेबाज क्रिस गेल ने कह...</td>\n",
       "    </tr>\n",
       "    <tr>\n",
       "      <th>2</th>\n",
       "      <td>म्रिस्र के नवनियुक्त उप राष्ट्रपति उमर सुलेमान...</td>\n",
       "      <td>म्रिस्र के नवनियुक्त उप राष्ट्रपति उमर सुलेमान...</td>\n",
       "    </tr>\n",
       "    <tr>\n",
       "      <th>3</th>\n",
       "      <td>ट्विंकल खन्ना ने वजाइना से जुड़े कई सवालों के ...</td>\n",
       "      <td>अकसर अपने ट्वीट्स को लेकर चर्चा में रहने वाली ...</td>\n",
       "    </tr>\n",
       "    <tr>\n",
       "      <th>4</th>\n",
       "      <td>दुनिया भर में ग़लत तरीके से सड़क पार करने पर ज...</td>\n",
       "      <td>कहा जाता है कि अमरीका में 1920 के दशक में मोटर...</td>\n",
       "    </tr>\n",
       "    <tr>\n",
       "      <th>...</th>\n",
       "      <td>...</td>\n",
       "      <td>...</td>\n",
       "    </tr>\n",
       "    <tr>\n",
       "      <th>1995</th>\n",
       "      <td>परीक्षा में नकल करते हुए पकड़े जाने पर गुस्साए...</td>\n",
       "      <td>परीक्षा में नकल करते हुए पकड़े जाने पर गुस्साए...</td>\n",
       "    </tr>\n",
       "    <tr>\n",
       "      <th>1996</th>\n",
       "      <td>अलग अलग अधिकारियों ने घटना का अलग अलग कारण बता...</td>\n",
       "      <td>पाकिस्तान के पंजाब प्रांत में एक दरगाह के मानस...</td>\n",
       "    </tr>\n",
       "    <tr>\n",
       "      <th>1997</th>\n",
       "      <td>पांच सप्ताह लगातार तेजी में रहने के बाद गत सप्...</td>\n",
       "      <td>पांच सप्ताह लगातार तेजी में रहने के बाद गत सप्...</td>\n",
       "    </tr>\n",
       "    <tr>\n",
       "      <th>1998</th>\n",
       "      <td>इसको 14 साल सश्रम कारावास की सजा सुनाई गई थी स...</td>\n",
       "      <td>तेलंगाना सरकार ने गोपनीयता कानून के तहत सजा का...</td>\n",
       "    </tr>\n",
       "    <tr>\n",
       "      <th>1999</th>\n",
       "      <td>अदालतों पर ज़िम्मेदारी है महिलाओं के यौन उत्पी...</td>\n",
       "      <td>मगर यह समिति किसी न्यायाधीश के ख़िलाफ़ यौन उत्...</td>\n",
       "    </tr>\n",
       "  </tbody>\n",
       "</table>\n",
       "<p>2000 rows × 2 columns</p>\n",
       "</div>"
      ],
      "text/plain": [
       "                                            GoldSummary  \\\n",
       "0     बिहार में भारतीय जनता पार्टी (बीजेपी) अपने सहय...   \n",
       "1     क्रिस गेल ने कहा चैंपियंस ट्रॉफी में पाकिस्तान...   \n",
       "2     म्रिस्र के नवनियुक्त उप राष्ट्रपति उमर सुलेमान...   \n",
       "3     ट्विंकल खन्ना ने वजाइना से जुड़े कई सवालों के ...   \n",
       "4     दुनिया भर में ग़लत तरीके से सड़क पार करने पर ज...   \n",
       "...                                                 ...   \n",
       "1995  परीक्षा में नकल करते हुए पकड़े जाने पर गुस्साए...   \n",
       "1996  अलग अलग अधिकारियों ने घटना का अलग अलग कारण बता...   \n",
       "1997  पांच सप्ताह लगातार तेजी में रहने के बाद गत सप्...   \n",
       "1998  इसको 14 साल सश्रम कारावास की सजा सुनाई गई थी स...   \n",
       "1999  अदालतों पर ज़िम्मेदारी है महिलाओं के यौन उत्पी...   \n",
       "\n",
       "                                            BartSummary  \n",
       "0     आगामी लोकसभा चुनाव में राज्य की कुल 40 सीटों म...  \n",
       "1     वेस्टइंडीज के आक्रामक बल्लेबाज क्रिस गेल ने कह...  \n",
       "2     म्रिस्र के नवनियुक्त उप राष्ट्रपति उमर सुलेमान...  \n",
       "3     अकसर अपने ट्वीट्स को लेकर चर्चा में रहने वाली ...  \n",
       "4     कहा जाता है कि अमरीका में 1920 के दशक में मोटर...  \n",
       "...                                                 ...  \n",
       "1995  परीक्षा में नकल करते हुए पकड़े जाने पर गुस्साए...  \n",
       "1996  पाकिस्तान के पंजाब प्रांत में एक दरगाह के मानस...  \n",
       "1997  पांच सप्ताह लगातार तेजी में रहने के बाद गत सप्...  \n",
       "1998  तेलंगाना सरकार ने गोपनीयता कानून के तहत सजा का...  \n",
       "1999  मगर यह समिति किसी न्यायाधीश के ख़िलाफ़ यौन उत्...  \n",
       "\n",
       "[2000 rows x 2 columns]"
      ]
     },
     "execution_count": 37,
     "metadata": {},
     "output_type": "execute_result"
    }
   ],
   "source": [
    "Summaries = pd.DataFrame(list(zip(goldsummary, SystemSummary)), columns =['GoldSummary', 'BartSummary'])\n",
    "Summaries"
   ]
  },
  {
   "cell_type": "code",
   "execution_count": 38,
   "metadata": {
    "execution": {
     "iopub.execute_input": "2022-05-01T09:19:13.118153Z",
     "iopub.status.busy": "2022-05-01T09:19:13.117902Z",
     "iopub.status.idle": "2022-05-01T09:19:17.028376Z",
     "shell.execute_reply": "2022-05-01T09:19:17.027618Z",
     "shell.execute_reply.started": "2022-05-01T09:19:13.118127Z"
    }
   },
   "outputs": [
    {
     "data": {
      "text/html": [
       "<div>\n",
       "<style scoped>\n",
       "    .dataframe tbody tr th:only-of-type {\n",
       "        vertical-align: middle;\n",
       "    }\n",
       "\n",
       "    .dataframe tbody tr th {\n",
       "        vertical-align: top;\n",
       "    }\n",
       "\n",
       "    .dataframe thead th {\n",
       "        text-align: right;\n",
       "    }\n",
       "</style>\n",
       "<table border=\"1\" class=\"dataframe\">\n",
       "  <thead>\n",
       "    <tr style=\"text-align: right;\">\n",
       "      <th></th>\n",
       "      <th>rouge-1</th>\n",
       "      <th>rouge-2</th>\n",
       "      <th>rouge-l</th>\n",
       "    </tr>\n",
       "  </thead>\n",
       "  <tbody>\n",
       "    <tr>\n",
       "      <th>recall</th>\n",
       "      <td>0.524375</td>\n",
       "      <td>0.305393</td>\n",
       "      <td>0.470940</td>\n",
       "    </tr>\n",
       "    <tr>\n",
       "      <th>precision</th>\n",
       "      <td>0.318803</td>\n",
       "      <td>0.168727</td>\n",
       "      <td>0.286694</td>\n",
       "    </tr>\n",
       "    <tr>\n",
       "      <th>f-measure</th>\n",
       "      <td>0.392498</td>\n",
       "      <td>0.214855</td>\n",
       "      <td>0.352787</td>\n",
       "    </tr>\n",
       "  </tbody>\n",
       "</table>\n",
       "</div>"
      ],
      "text/plain": [
       "            rouge-1   rouge-2   rouge-l\n",
       "recall     0.524375  0.305393  0.470940\n",
       "precision  0.318803  0.168727  0.286694\n",
       "f-measure  0.392498  0.214855  0.352787"
      ]
     },
     "execution_count": 38,
     "metadata": {},
     "output_type": "execute_result"
    }
   ],
   "source": [
    "rouge = Rouge()\n",
    "score = rouge.get_scores(Summaries['BartSummary'], Summaries['GoldSummary'], avg=True)\n",
    "BartRouge = pd.DataFrame(score).set_index([['recall','precision','f-measure']])\n",
    "BartRouge"
   ]
  },
  {
   "cell_type": "markdown",
   "metadata": {},
   "source": [
    "### **Model2 : T5**"
   ]
  },
  {
   "cell_type": "code",
   "execution_count": null,
   "metadata": {},
   "outputs": [],
   "source": [
    "t5_checkpoint = \"csebuetnlp/mT5_multilingual_XLSum\"\n",
    "\n",
    "tokenizer_t5 = AutoTokenizer.from_pretrained(t5_checkpoint)\n",
    "model_t5 = AutoModelForSeq2SeqLM.from_pretrained(t5_checkpoint).to(device)"
   ]
  },
  {
   "cell_type": "code",
   "execution_count": 32,
   "metadata": {
    "execution": {
     "iopub.execute_input": "2022-05-01T08:25:42.960140Z",
     "iopub.status.busy": "2022-05-01T08:25:42.959611Z",
     "iopub.status.idle": "2022-05-01T09:11:37.242572Z",
     "shell.execute_reply": "2022-05-01T09:11:37.241771Z",
     "shell.execute_reply.started": "2022-05-01T08:25:42.960104Z"
    }
   },
   "outputs": [
    {
     "name": "stdout",
     "output_type": "stream",
     "text": [
      "CPU times: user 45min 44s, sys: 2.47 s, total: 45min 47s\n",
      "Wall time: 45min 54s\n"
     ]
    }
   ],
   "source": [
    "%%time\n",
    "\n",
    "SystemSummary1 = []\n",
    "\n",
    "for i, input_text in enumerate(text):    \n",
    "    \n",
    "    input_ids = tokenizer_t5(input_text,\n",
    "                             return_tensors=\"pt\",\n",
    "                             padding=\"max_length\",\n",
    "                             truncation=True,\n",
    "                             max_length=768)[\"input_ids\"].to(device) \n",
    "\n",
    "    model_output = model_t5.generate(input_ids=input_ids,\n",
    "                                     num_beams=4,\n",
    "                                     max_length=70,\n",
    "                                     min_length=30,\n",
    "                                     no_repeat_ngram_size=2,\n",
    "                                     early_stopping=True)\n",
    "\n",
    "    decoded_output = tokenizer_t5.decode(model_output[0],\n",
    "                                  skip_special_tokens=True,\n",
    "                                  clean_up_tokenization_spaces=False)\n",
    "    \n",
    "    SystemSummary1.append(decoded_output)"
   ]
  },
  {
   "cell_type": "code",
   "execution_count": 40,
   "metadata": {
    "execution": {
     "iopub.execute_input": "2022-05-01T09:19:55.168203Z",
     "iopub.status.busy": "2022-05-01T09:19:55.167649Z",
     "iopub.status.idle": "2022-05-01T09:19:55.176384Z",
     "shell.execute_reply": "2022-05-01T09:19:55.173869Z",
     "shell.execute_reply.started": "2022-05-01T09:19:55.168166Z"
    }
   },
   "outputs": [],
   "source": [
    "Summaries['T5Summary'] = SystemSummary1"
   ]
  },
  {
   "cell_type": "code",
   "execution_count": 42,
   "metadata": {
    "execution": {
     "iopub.execute_input": "2022-05-01T09:20:08.179496Z",
     "iopub.status.busy": "2022-05-01T09:20:08.179247Z",
     "iopub.status.idle": "2022-05-01T09:20:08.188718Z",
     "shell.execute_reply": "2022-05-01T09:20:08.187983Z",
     "shell.execute_reply.started": "2022-05-01T09:20:08.179468Z"
    }
   },
   "outputs": [
    {
     "data": {
      "text/html": [
       "<div>\n",
       "<style scoped>\n",
       "    .dataframe tbody tr th:only-of-type {\n",
       "        vertical-align: middle;\n",
       "    }\n",
       "\n",
       "    .dataframe tbody tr th {\n",
       "        vertical-align: top;\n",
       "    }\n",
       "\n",
       "    .dataframe thead th {\n",
       "        text-align: right;\n",
       "    }\n",
       "</style>\n",
       "<table border=\"1\" class=\"dataframe\">\n",
       "  <thead>\n",
       "    <tr style=\"text-align: right;\">\n",
       "      <th></th>\n",
       "      <th>GoldSummary</th>\n",
       "      <th>BartSummary</th>\n",
       "      <th>T5Summary</th>\n",
       "    </tr>\n",
       "  </thead>\n",
       "  <tbody>\n",
       "    <tr>\n",
       "      <th>0</th>\n",
       "      <td>बिहार में भारतीय जनता पार्टी (बीजेपी) अपने सहय...</td>\n",
       "      <td>आगामी लोकसभा चुनाव में राज्य की कुल 40 सीटों म...</td>\n",
       "      <td>बिहार में विधानसभा चुनावों के लिए बीजेपी और जन...</td>\n",
       "    </tr>\n",
       "    <tr>\n",
       "      <th>1</th>\n",
       "      <td>क्रिस गेल ने कहा चैंपियंस ट्रॉफी में पाकिस्तान...</td>\n",
       "      <td>वेस्टइंडीज के आक्रामक बल्लेबाज क्रिस गेल ने कह...</td>\n",
       "      <td>आईसीसी चैम्पियंस ट्रॉफी में अगले महीने भारत और...</td>\n",
       "    </tr>\n",
       "    <tr>\n",
       "      <th>2</th>\n",
       "      <td>म्रिस्र के नवनियुक्त उप राष्ट्रपति उमर सुलेमान...</td>\n",
       "      <td>म्रिस्र के नवनियुक्त उप राष्ट्रपति उमर सुलेमान...</td>\n",
       "      <td>मिस्र के राष्ट्रपति हुस्नी मुबारक ने सरकार विर...</td>\n",
       "    </tr>\n",
       "    <tr>\n",
       "      <th>3</th>\n",
       "      <td>ट्विंकल खन्ना ने वजाइना से जुड़े कई सवालों के ...</td>\n",
       "      <td>अकसर अपने ट्वीट्स को लेकर चर्चा में रहने वाली ...</td>\n",
       "      <td>बॉलीवुड की एक्ट्रेस ट्विंकल खन्ना ने एक और ब्ल...</td>\n",
       "    </tr>\n",
       "    <tr>\n",
       "      <th>4</th>\n",
       "      <td>दुनिया भर में ग़लत तरीके से सड़क पार करने पर ज...</td>\n",
       "      <td>कहा जाता है कि अमरीका में 1920 के दशक में मोटर...</td>\n",
       "      <td>अमरीका में लाल बत्ती पर सड़क पार करने पर रोक ल...</td>\n",
       "    </tr>\n",
       "  </tbody>\n",
       "</table>\n",
       "</div>"
      ],
      "text/plain": [
       "                                         GoldSummary  \\\n",
       "0  बिहार में भारतीय जनता पार्टी (बीजेपी) अपने सहय...   \n",
       "1  क्रिस गेल ने कहा चैंपियंस ट्रॉफी में पाकिस्तान...   \n",
       "2  म्रिस्र के नवनियुक्त उप राष्ट्रपति उमर सुलेमान...   \n",
       "3  ट्विंकल खन्ना ने वजाइना से जुड़े कई सवालों के ...   \n",
       "4  दुनिया भर में ग़लत तरीके से सड़क पार करने पर ज...   \n",
       "\n",
       "                                         BartSummary  \\\n",
       "0  आगामी लोकसभा चुनाव में राज्य की कुल 40 सीटों म...   \n",
       "1  वेस्टइंडीज के आक्रामक बल्लेबाज क्रिस गेल ने कह...   \n",
       "2  म्रिस्र के नवनियुक्त उप राष्ट्रपति उमर सुलेमान...   \n",
       "3  अकसर अपने ट्वीट्स को लेकर चर्चा में रहने वाली ...   \n",
       "4  कहा जाता है कि अमरीका में 1920 के दशक में मोटर...   \n",
       "\n",
       "                                           T5Summary  \n",
       "0  बिहार में विधानसभा चुनावों के लिए बीजेपी और जन...  \n",
       "1  आईसीसी चैम्पियंस ट्रॉफी में अगले महीने भारत और...  \n",
       "2  मिस्र के राष्ट्रपति हुस्नी मुबारक ने सरकार विर...  \n",
       "3  बॉलीवुड की एक्ट्रेस ट्विंकल खन्ना ने एक और ब्ल...  \n",
       "4  अमरीका में लाल बत्ती पर सड़क पार करने पर रोक ल...  "
      ]
     },
     "execution_count": 42,
     "metadata": {},
     "output_type": "execute_result"
    }
   ],
   "source": [
    "Summaries.head()"
   ]
  },
  {
   "cell_type": "code",
   "execution_count": 43,
   "metadata": {
    "execution": {
     "iopub.execute_input": "2022-05-01T09:20:36.279792Z",
     "iopub.status.busy": "2022-05-01T09:20:36.279128Z",
     "iopub.status.idle": "2022-05-01T09:20:37.903367Z",
     "shell.execute_reply": "2022-05-01T09:20:37.902673Z",
     "shell.execute_reply.started": "2022-05-01T09:20:36.279739Z"
    }
   },
   "outputs": [
    {
     "data": {
      "text/html": [
       "<div>\n",
       "<style scoped>\n",
       "    .dataframe tbody tr th:only-of-type {\n",
       "        vertical-align: middle;\n",
       "    }\n",
       "\n",
       "    .dataframe tbody tr th {\n",
       "        vertical-align: top;\n",
       "    }\n",
       "\n",
       "    .dataframe thead th {\n",
       "        text-align: right;\n",
       "    }\n",
       "</style>\n",
       "<table border=\"1\" class=\"dataframe\">\n",
       "  <thead>\n",
       "    <tr style=\"text-align: right;\">\n",
       "      <th></th>\n",
       "      <th>rouge-1</th>\n",
       "      <th>rouge-2</th>\n",
       "      <th>rouge-l</th>\n",
       "    </tr>\n",
       "  </thead>\n",
       "  <tbody>\n",
       "    <tr>\n",
       "      <th>recall</th>\n",
       "      <td>0.358953</td>\n",
       "      <td>0.177884</td>\n",
       "      <td>0.310272</td>\n",
       "    </tr>\n",
       "    <tr>\n",
       "      <th>precision</th>\n",
       "      <td>0.478681</td>\n",
       "      <td>0.246412</td>\n",
       "      <td>0.412407</td>\n",
       "    </tr>\n",
       "    <tr>\n",
       "      <th>f-measure</th>\n",
       "      <td>0.402849</td>\n",
       "      <td>0.202179</td>\n",
       "      <td>0.347753</td>\n",
       "    </tr>\n",
       "  </tbody>\n",
       "</table>\n",
       "</div>"
      ],
      "text/plain": [
       "            rouge-1   rouge-2   rouge-l\n",
       "recall     0.358953  0.177884  0.310272\n",
       "precision  0.478681  0.246412  0.412407\n",
       "f-measure  0.402849  0.202179  0.347753"
      ]
     },
     "execution_count": 43,
     "metadata": {},
     "output_type": "execute_result"
    }
   ],
   "source": [
    "rouge = Rouge()\n",
    "score = rouge.get_scores(Summaries['T5Summary'], Summaries['GoldSummary'], avg=True)\n",
    "T5Rouge = pd.DataFrame(score).set_index([['recall','precision','f-measure']])\n",
    "T5Rouge"
   ]
  },
  {
   "cell_type": "markdown",
   "metadata": {},
   "source": [
    "### **Plotting Rouge Score**"
   ]
  },
  {
   "cell_type": "code",
   "execution_count": 88,
   "metadata": {
    "execution": {
     "iopub.execute_input": "2022-05-01T09:43:24.590002Z",
     "iopub.status.busy": "2022-05-01T09:43:24.589588Z",
     "iopub.status.idle": "2022-05-01T09:43:24.595943Z",
     "shell.execute_reply": "2022-05-01T09:43:24.595240Z",
     "shell.execute_reply.started": "2022-05-01T09:43:24.589968Z"
    }
   },
   "outputs": [],
   "source": [
    "T5Rouge = T5Rouge[['rouge-1','rouge-l', 'rouge-2']]\n",
    "BartRouge = BartRouge[['rouge-1','rouge-l', 'rouge-2']]"
   ]
  },
  {
   "cell_type": "code",
   "execution_count": null,
   "metadata": {},
   "outputs": [],
   "source": [
    "fig = px.bar(T5Rouge*100, x=T5Rouge.index, y=T5Rouge.columns, \n",
    "             barmode='group', \n",
    "             text_auto='.2s',\n",
    "             labels={\n",
    "                     \"Algo\": \"Algorithms\",\n",
    "                     \"value\": \"Rouge Score\",\n",
    "                     \"variable\": \"legend\",\n",
    "                     'index': \"Metrics\"\n",
    "                 })\n",
    "\n",
    "fig.update_layout(width=650,\n",
    "                  height=400,\n",
    "                  title={\n",
    "                  'text': \"Score\",\n",
    "                  'y':.96,\n",
    "                  'x':0.49,\n",
    "                  'xanchor': 'center',\n",
    "                  'yanchor': 'top'})\n",
    "\n",
    "fig.show()"
   ]
  },
  {
   "attachments": {
    "41c6ca4b-c8d5-43ae-a9f3-4436725df739.png": {
     "image/png": "[encoded data removed]"
    }
   },
   "cell_type": "markdown",
   "metadata": {},
   "source": [
    "![newplot.png](attachment:41c6ca4b-c8d5-43ae-a9f3-4436725df739.png)"
   ]
  },
  {
   "cell_type": "code",
   "execution_count": null,
   "metadata": {},
   "outputs": [],
   "source": [
    "fig = px.bar(BartRouge*100, x=BartRouge.index, y=BartRouge.columns, \n",
    "             barmode='group', \n",
    "             text_auto='.2s',\n",
    "             labels={\n",
    "                     \"Algo\": \"Algorithms\",\n",
    "                     \"value\": \"Rouge Score\",\n",
    "                     \"variable\": \"legend\",\n",
    "                     'index': \"Metrics\"\n",
    "                 })\n",
    "fig.update_layout( width=650,\n",
    "                  height=400,\n",
    "                title={\n",
    "                  'text': \"Score\",\n",
    "                  'y':.96,\n",
    "                  'x':0.49,\n",
    "                  'xanchor': 'center',\n",
    "                  'yanchor': 'top'})\n",
    "\n",
    "fig.show()"
   ]
  },
  {
   "attachments": {
    "fbccaf73-89cf-4f36-ad97-52099df820d2.png": {
     "image/png": "[encoded data removed]"
    }
   },
   "cell_type": "markdown",
   "metadata": {},
   "source": [
    "![newplot (1).png](attachment:fbccaf73-89cf-4f36-ad97-52099df820d2.png)"
   ]
  },
  {
   "cell_type": "markdown",
   "metadata": {},
   "source": [
    "### **Sample Summaries**"
   ]
  },
  {
   "cell_type": "code",
   "execution_count": 111,
   "metadata": {
    "execution": {
     "iopub.execute_input": "2022-05-01T09:55:20.408711Z",
     "iopub.status.busy": "2022-05-01T09:55:20.408462Z",
     "iopub.status.idle": "2022-05-01T09:55:20.414325Z",
     "shell.execute_reply": "2022-05-01T09:55:20.413392Z",
     "shell.execute_reply.started": "2022-05-01T09:55:20.408684Z"
    }
   },
   "outputs": [
    {
     "data": {
      "text/plain": [
       "['बिहार में भारतीय जनता पार्टी (बीजेपी) अपने सहयोगी जनता दल यूनाइटेड (जेडीयू) और लोक जनशक्ति पार्टी (एलजेपी) से क़दम-क़दम पर समझौता करने को विवश दिख रही है.',\n",
       " 'क्रिस गेल ने कहा चैंपियंस ट्रॉफी में पाकिस्तानी पर भारी पड़ेगा भारत क्रिस गेल ने पाकिस्तान को पंसदीदा टीम बताया 18 जून से इंग्लैंड और वेल्स में शुरू होगा चैम्पियंस ट्रॉफी टूर्नामेंट',\n",
       " 'म्रिस्र के नवनियुक्त उप राष्ट्रपति उमर सुलेमान ने कहा कि वह तब तक बातचीत नहीं करेंगे जब तक लोग प्रदर्शन बंद कर अपने घरों को नहीं लौटेंगे।',\n",
       " 'ट्विंकल खन्ना ने वजाइना से जुड़े कई सवालों के दिए जवाब. ट्विंकल खन्ना ने सोशल मीडिया पर शेयर की पोस्ट. ट्विंकल खन्ना ने अपने ब्लॉक में दिए 11 सवालों के जवाब.',\n",
       " 'दुनिया भर में ग़लत तरीके से सड़क पार करने पर जुर्माना लगाए जाने का प्रावधान है लेकिन अमरीका में ऐसी ग़लती करने पर जिस तरह के क़ायदे कानून हैं, वह किसी भी विदेशी आगंतुक को चौंका सकता है.']"
      ]
     },
     "execution_count": 111,
     "metadata": {},
     "output_type": "execute_result"
    }
   ],
   "source": [
    "[i for i in Summaries['GoldSummary'][:5]]"
   ]
  },
  {
   "cell_type": "code",
   "execution_count": 115,
   "metadata": {
    "execution": {
     "iopub.execute_input": "2022-05-01T09:55:52.959979Z",
     "iopub.status.busy": "2022-05-01T09:55:52.959101Z",
     "iopub.status.idle": "2022-05-01T09:55:52.966222Z",
     "shell.execute_reply": "2022-05-01T09:55:52.965523Z",
     "shell.execute_reply.started": "2022-05-01T09:55:52.959927Z"
    }
   },
   "outputs": [
    {
     "data": {
      "text/plain": [
       "['बिहार में विधानसभा चुनावों के लिए बीजेपी और जनता दल यूनाइटेड (जेडीयू) जैसे तीनों घटक राजनीतिक दलों की उम्मीदवारी लड़ने की तैयारी कर रहे हैं.',\n",
       " 'आईसीसी चैम्पियंस ट्रॉफी में अगले महीने भारत और पाकिस्तान के बीच होने वाले मुकाबले में भारत का पलड़ा भारी रहेगा.',\n",
       " 'मिस्र के राष्ट्रपति हुस्नी मुबारक ने सरकार विरोधी प्रदर्शनकारियों के साथ बातचीत शुरू करने का आग्रह किया है.',\n",
       " 'बॉलीवुड की एक्ट्रेस ट्विंकल खन्ना ने एक और ब्लॉग लिखते हुए 11 सवालों के जवाब दिए हैं.',\n",
       " 'अमरीका में लाल बत्ती पर सड़क पार करने पर रोक लगा दी गई है और इसके लिए कई लोगों को जुर्माना लगाया गया है.']"
      ]
     },
     "execution_count": 115,
     "metadata": {},
     "output_type": "execute_result"
    }
   ],
   "source": [
    "[i for i in Summaries['T5Summary'][:5]]"
   ]
  },
  {
   "cell_type": "code",
   "execution_count": 116,
   "metadata": {
    "execution": {
     "iopub.execute_input": "2022-05-01T09:55:59.893875Z",
     "iopub.status.busy": "2022-05-01T09:55:59.893511Z",
     "iopub.status.idle": "2022-05-01T09:55:59.900719Z",
     "shell.execute_reply": "2022-05-01T09:55:59.899917Z",
     "shell.execute_reply.started": "2022-05-01T09:55:59.893838Z"
    }
   },
   "outputs": [
    {
     "data": {
      "text/plain": [
       "['आगामी लोकसभा चुनाव में राज्य की कुल 40 सीटों में से जिन सीटों पर राष्ट्रीय जनतांत्रिक गठबंधन (एनडीए) के ये तीनों घटक चुनाव लड़ेंगे, उनकी सूची से भी बीजेपी की मजबूरी झलक उठती है. यानी राज्य के मुख्यमंत्री और जेडीयू के अध्यक्ष नीतीश कुमार ने सीटों के चयन में अपने दलीय हित के अनुकूल बीजेपी नेतृत्व को जैसे',\n",
       " 'वेस्टइंडीज के आक्रामक बल्लेबाज क्रिस गेल ने कहा है कि अगले महीने शुरू होने वाली आईसीसी चैम्पियंस ट्रॉफी में भारत और पाकिस्तान के बीच होने वाले मुकाबले में भारत का पलड़ा भारी रहेगा. भारत और पाकिस्तान चार जून को चैम्पियंस ट्रॉफी में आमने सामने होंगे. गेल ने हालांकि भारत और पाकिस्तान को अपनी पसंदीदा टीमें भी बताया.एक कार्यक्रम',\n",
       " 'म्रिस्र के नवनियुक्त उप राष्ट्रपति उमर सुलेमान ने बुधवार को कहा कि वह विपक्ष के साथ तब तक बातचीत नहीं करेंगे जब तक लोग प्रदर्शन बंद कर अपने घरों को नहीं लौटेंगे। समाचार एजेंसी डीपीए के मुताबिक सुलेमान ने कहा \"राष्ट्रपति हुस्नी मुबारक ने विपक्ष के साथ बातचीत शुरू करने का आग्रह किया है लेकिन यह तब तक',\n",
       " 'अकसर अपने ट्वीट्स को लेकर चर्चा में रहने वाली बॉलीवुड के सुपरस्टार अक्षय कुमार की पत्नी ट्विंकल खन्ना समसामयिक मुद्दों पर अपनी बेबाक राय रखने के लिए जानी जाती हैं. वह एक ब्लॉग भी लिखती हैं. हाल में ट्विंकल ने एक वेबसाइट के लिए एक ब्लॉग लिखा है जिसमें उन्होंने विशेषज्ञों द्वारा स्वीकृत योनि से जुड़े',\n",
       " 'कहा जाता है कि अमरीका में 1920 के दशक में मोटर उद्योग की ओर से किए गए प्रचार प्रसार की वजह से रेड लाइट पर सड़क पार करने के कायदे बनाए गए थे. कैलिफोर्निया के व्हीकल कोड में कहा गया है, \"सड़क पर पैदल चल रहा कोई भी व्यक्ति रेड लाइट की ओर सड़क पार करने की कोशिश नहीं करेगा']"
      ]
     },
     "execution_count": 116,
     "metadata": {},
     "output_type": "execute_result"
    }
   ],
   "source": [
    "[i for i in Summaries['BartSummary'][:5]]"
   ]
  },
  {
   "cell_type": "markdown",
   "metadata": {},
   "source": [
    "Note: Plotly plots are not rendering after saving notebook, so I kept same graph as image file."
   ]
  }
 ],
 "metadata": {
  "kernelspec": {
   "display_name": "Python 3 (ipykernel)",
   "language": "python",
   "name": "python3"
  },
  "language_info": {
   "codemirror_mode": {
    "name": "ipython",
    "version": 3
   },
   "file_extension": ".py",
   "mimetype": "text/x-python",
   "name": "python",
   "nbconvert_exporter": "python",
   "pygments_lexer": "ipython3",
   "version": "3.8.12"
  }
 },
 "nbformat": 4,
 "nbformat_minor": 4
}
